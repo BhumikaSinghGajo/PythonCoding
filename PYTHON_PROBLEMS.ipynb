{
  "nbformat": 4,
  "nbformat_minor": 0,
  "metadata": {
    "colab": {
      "provenance": [],
      "authorship_tag": "ABX9TyM3gNFQBsh4TlD4Qolx7+dQ",
      "include_colab_link": true
    },
    "kernelspec": {
      "name": "python3",
      "display_name": "Python 3"
    },
    "language_info": {
      "name": "python"
    }
  },
  "cells": [
    {
      "cell_type": "markdown",
      "metadata": {
        "id": "view-in-github",
        "colab_type": "text"
      },
      "source": [
        "<a href=\"https://colab.research.google.com/github/BhumikaSinghGajo/PythonCoding/blob/main/PYTHON_PROBLEMS.ipynb\" target=\"_parent\"><img src=\"https://colab.research.google.com/assets/colab-badge.svg\" alt=\"Open In Colab\"/></a>"
      ]
    },
    {
      "cell_type": "code",
      "execution_count": null,
      "metadata": {
        "colab": {
          "base_uri": "https://localhost:8080/"
        },
        "id": "VAs_fQgE_4mg",
        "outputId": "437e4f15-5b58-46f5-d1d3-a2dbe61c40c9"
      },
      "outputs": [
        {
          "output_type": "stream",
          "name": "stdout",
          "text": [
            "2\n"
          ]
        }
      ],
      "source": [
        "#Return the count of a given substring from a string\n",
        "\n",
        "sentence = \"Riya is very good at studies.Well done Riya\"\n",
        "\n",
        "cnt = sentence.count('Riya')\n",
        "print(cnt)"
      ]
    },
    {
      "cell_type": "code",
      "source": [
        "#find maximum numbers\n",
        "def maximum (a,b):\n",
        "\n",
        " if a > b:\n",
        "  print(\"a is maximum\")\n",
        " else:\n",
        "  print(\"b is minimum\")\n",
        "\n",
        "#DRiver code\n",
        "a = 10\n",
        "b = 5\n",
        "print(maximum(a,b))\n"
      ],
      "metadata": {
        "colab": {
          "base_uri": "https://localhost:8080/"
        },
        "id": "TX8x_dSC_8DA",
        "outputId": "e16b873f-37c5-4aca-a45f-5fee9ca0cf41"
      },
      "execution_count": null,
      "outputs": [
        {
          "output_type": "stream",
          "name": "stdout",
          "text": [
            "a is maximum\n",
            "None\n"
          ]
        }
      ]
    },
    {
      "cell_type": "code",
      "source": [
        "#factorial questions\n",
        "import math\n",
        "\n",
        "def factorial (n):\n",
        "  return(math.factorial(n))\n",
        "\n",
        "#Driver code\n",
        "n = 5\n",
        "print(factorial(n))\n"
      ],
      "metadata": {
        "id": "ueFSfbmcDwnR",
        "colab": {
          "base_uri": "https://localhost:8080/"
        },
        "outputId": "d7acb9cb-9ca2-42b3-fd2d-4f45561fa829"
      },
      "execution_count": null,
      "outputs": [
        {
          "output_type": "stream",
          "name": "stdout",
          "text": [
            "120\n"
          ]
        }
      ]
    },
    {
      "cell_type": "code",
      "source": [],
      "metadata": {
        "id": "OJ_2zZw6Mzaf"
      },
      "execution_count": null,
      "outputs": []
    }
  ]
}