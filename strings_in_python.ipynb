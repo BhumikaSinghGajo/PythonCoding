{
  "nbformat": 4,
  "nbformat_minor": 0,
  "metadata": {
    "colab": {
      "provenance": [],
      "authorship_tag": "ABX9TyOHBZ4wr5bbPMIcaN9RB2h4",
      "include_colab_link": true
    },
    "kernelspec": {
      "name": "python3",
      "display_name": "Python 3"
    },
    "language_info": {
      "name": "python"
    }
  },
  "cells": [
    {
      "cell_type": "markdown",
      "metadata": {
        "id": "view-in-github",
        "colab_type": "text"
      },
      "source": [
        "<a href=\"https://colab.research.google.com/github/BhumikaSinghGajo/PythonCoding/blob/main/strings_in_python.ipynb\" target=\"_parent\"><img src=\"https://colab.research.google.com/assets/colab-badge.svg\" alt=\"Open In Colab\"/></a>"
      ]
    },
    {
      "cell_type": "code",
      "execution_count": null,
      "metadata": {
        "colab": {
          "base_uri": "https://localhost:8080/"
        },
        "id": "CjxqCoRYtdnh",
        "outputId": "a41a67c3-d7a3-4214-b51f-8f291603f9b3"
      },
      "outputs": [
        {
          "output_type": "stream",
          "name": "stdout",
          "text": [
            "4\n"
          ]
        }
      ],
      "source": [
        "#find length of string\n",
        "str = \"love\"\n",
        "print(len(str))"
      ]
    },
    {
      "cell_type": "code",
      "source": [
        "my_list = ['1','2','3']\n",
        "count = my_list.count(2)\n",
        "print(count)"
      ],
      "metadata": {
        "colab": {
          "base_uri": "https://localhost:8080/"
        },
        "id": "yjJN7YyFt_o2",
        "outputId": "fc70d94a-5657-4535-9d20-a5c60f312ac4"
      },
      "execution_count": null,
      "outputs": [
        {
          "output_type": "stream",
          "name": "stdout",
          "text": [
            "0\n"
          ]
        }
      ]
    },
    {
      "cell_type": "code",
      "source": [
        "#reverse the words\n",
        "string = 'riya'\n",
        "\n",
        "for char in reversed (string):\n",
        "  print (char)"
      ],
      "metadata": {
        "id": "4VVzMlWcvD7V",
        "colab": {
          "base_uri": "https://localhost:8080/"
        },
        "outputId": "9a37707f-eeb9-49b4-8d5f-a800df77bd6f"
      },
      "execution_count": null,
      "outputs": [
        {
          "output_type": "stream",
          "name": "stdout",
          "text": [
            "a\n",
            "y\n",
            "i\n",
            "R\n"
          ]
        }
      ]
    },
    {
      "cell_type": "code",
      "source": [
        "# Check if the string is pangram\n",
        "import string\n",
        "\n",
        "def ispangram(str):\n",
        "    alphabet = \"abcdefghijklmnopqrstuvwxyz\"\n",
        "    for char in alphabet:\n",
        "        if char not in str.lower():\n",
        "            return False\n",
        "\n",
        "    return True\n",
        "\n",
        "# Driver code\n",
        "string = 'the quick brown fox jumps over the lazy dog'\n",
        "if(ispangram(string) == True):\n",
        "    print(\"Yes\")\n",
        "else:\n",
        "    print(\"No\")"
      ],
      "metadata": {
        "colab": {
          "base_uri": "https://localhost:8080/"
        },
        "id": "sHpKmAQF_lc6",
        "outputId": "fd61d919-1f42-49f6-8007-293b469731ef"
      },
      "execution_count": null,
      "outputs": [
        {
          "output_type": "stream",
          "name": "stdout",
          "text": [
            "Yes\n"
          ]
        }
      ]
    },
    {
      "cell_type": "code",
      "source": [
        "#print even length words in a string\n",
        "n=\"My name is riya singh\"\n",
        "#splitting the words in a given string\n",
        "s=n.split(\" \")\n",
        "for i in s:\n",
        "  #checking the length of words\n",
        "  if len(i)%2==0:\n",
        "    print(i)"
      ],
      "metadata": {
        "id": "u1vxdy9OBtiD",
        "colab": {
          "base_uri": "https://localhost:8080/"
        },
        "outputId": "5a257a43-cbd1-428a-cbdf-a041442541a2"
      },
      "execution_count": null,
      "outputs": [
        {
          "output_type": "stream",
          "name": "stdout",
          "text": [
            "My\n",
            "name\n",
            "is\n",
            "riya\n"
          ]
        }
      ]
    },
    {
      "cell_type": "code",
      "source": [
        "#reverse a string\n",
        "str1 = \"Riyasingh\"\n",
        "print(\"Original String is:\", str1)\n",
        "\n",
        "str1 = ''.join(reversed(str1))\n",
        "print(\"Reversed String is:\", str1)"
      ],
      "metadata": {
        "colab": {
          "base_uri": "https://localhost:8080/"
        },
        "id": "Pd0JPdYSeQw7",
        "outputId": "608ef9e0-06bc-4cdf-9a38-6a605d5f9e74"
      },
      "execution_count": null,
      "outputs": [
        {
          "output_type": "stream",
          "name": "stdout",
          "text": [
            "Original String is: Riyasingh\n",
            "Reversed String is: hgnisayiR\n"
          ]
        }
      ]
    },
    {
      "cell_type": "code",
      "source": [
        "#Consecutive characters frequency\n",
        "from itertools import groupby\n",
        "\n",
        "# initializing string\n",
        "test_str = \"geekksforgggeeks\"\n",
        "\n",
        "# printing original string\n",
        "print(\"The original string is : \" + test_str)\n",
        "\n",
        "# Consecutive characters frequency\n",
        "res = [len(list(j)) for _, j in groupby(test_str)]\n",
        "\n",
        "# printing result\n",
        "print(\"The Consecutive characters frequency : \" + str(res))"
      ],
      "metadata": {
        "id": "Be8HQTRziq3d",
        "colab": {
          "base_uri": "https://localhost:8080/"
        },
        "outputId": "fe8cb019-f751-4d02-9b4a-71efce30dde8"
      },
      "execution_count": 2,
      "outputs": [
        {
          "output_type": "stream",
          "name": "stdout",
          "text": [
            "The original string is : geekksforgggeeks\n",
            "The Consecutive characters frequency : [1, 2, 2, 1, 1, 1, 1, 3, 2, 1, 1]\n"
          ]
        }
      ]
    },
    {
      "cell_type": "code",
      "source": [],
      "metadata": {
        "id": "Jad0wveqJEcI"
      },
      "execution_count": null,
      "outputs": []
    }
  ]
}