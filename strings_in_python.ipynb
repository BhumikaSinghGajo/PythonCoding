{
  "nbformat": 4,
  "nbformat_minor": 0,
  "metadata": {
    "colab": {
      "provenance": [],
      "authorship_tag": "ABX9TyPVFpvIgFCs+5v4Gzes/cqz",
      "include_colab_link": true
    },
    "kernelspec": {
      "name": "python3",
      "display_name": "Python 3"
    },
    "language_info": {
      "name": "python"
    }
  },
  "cells": [
    {
      "cell_type": "markdown",
      "metadata": {
        "id": "view-in-github",
        "colab_type": "text"
      },
      "source": [
        "<a href=\"https://colab.research.google.com/github/BhumikaSinghGajo/PythonCoding/blob/main/strings_in_python.ipynb\" target=\"_parent\"><img src=\"https://colab.research.google.com/assets/colab-badge.svg\" alt=\"Open In Colab\"/></a>"
      ]
    },
    {
      "cell_type": "code",
      "execution_count": null,
      "metadata": {
        "colab": {
          "base_uri": "https://localhost:8080/"
        },
        "id": "CjxqCoRYtdnh",
        "outputId": "a41a67c3-d7a3-4214-b51f-8f291603f9b3"
      },
      "outputs": [
        {
          "output_type": "stream",
          "name": "stdout",
          "text": [
            "4\n"
          ]
        }
      ],
      "source": [
        "#find length of string\n",
        "str = \"love\"\n",
        "print(len(str))"
      ]
    },
    {
      "cell_type": "code",
      "source": [
        "my_list = ['1','2','3']\n",
        "count = my_list.count(2)\n",
        "print(count)"
      ],
      "metadata": {
        "colab": {
          "base_uri": "https://localhost:8080/"
        },
        "id": "yjJN7YyFt_o2",
        "outputId": "fc70d94a-5657-4535-9d20-a5c60f312ac4"
      },
      "execution_count": null,
      "outputs": [
        {
          "output_type": "stream",
          "name": "stdout",
          "text": [
            "0\n"
          ]
        }
      ]
    },
    {
      "cell_type": "code",
      "source": [
        "#reverse the words\n",
        "string = 'riya'\n",
        "\n",
        "for char in reversed (string):\n",
        "  print (char)"
      ],
      "metadata": {
        "id": "4VVzMlWcvD7V",
        "colab": {
          "base_uri": "https://localhost:8080/"
        },
        "outputId": "9a37707f-eeb9-49b4-8d5f-a800df77bd6f"
      },
      "execution_count": null,
      "outputs": [
        {
          "output_type": "stream",
          "name": "stdout",
          "text": [
            "a\n",
            "y\n",
            "i\n",
            "R\n"
          ]
        }
      ]
    },
    {
      "cell_type": "code",
      "source": [
        "# Check if the string is pangram\n",
        "import string\n",
        "\n",
        "def ispangram(str):\n",
        "    alphabet = \"abcdefghijklmnopqrstuvwxyz\"\n",
        "    for char in alphabet:\n",
        "        if char not in str.lower():\n",
        "            return False\n",
        "\n",
        "    return True\n",
        "\n",
        "# Driver code\n",
        "string = 'the quick brown fox jumps over the lazy dog'\n",
        "if(ispangram(string) == True):\n",
        "    print(\"Yes\")\n",
        "else:\n",
        "    print(\"No\")"
      ],
      "metadata": {
        "colab": {
          "base_uri": "https://localhost:8080/"
        },
        "id": "sHpKmAQF_lc6",
        "outputId": "fd61d919-1f42-49f6-8007-293b469731ef"
      },
      "execution_count": null,
      "outputs": [
        {
          "output_type": "stream",
          "name": "stdout",
          "text": [
            "Yes\n"
          ]
        }
      ]
    },
    {
      "cell_type": "code",
      "source": [
        "#print even length words in a string\n",
        "n=\"My name is riya singh\"\n",
        "#splitting the words in a given string\n",
        "s=n.split(\" \")\n",
        "for i in s:\n",
        "  #checking the length of words\n",
        "  if len(i)%2==0:\n",
        "    print(i)"
      ],
      "metadata": {
        "id": "u1vxdy9OBtiD",
        "colab": {
          "base_uri": "https://localhost:8080/"
        },
        "outputId": "5a257a43-cbd1-428a-cbdf-a041442541a2"
      },
      "execution_count": 2,
      "outputs": [
        {
          "output_type": "stream",
          "name": "stdout",
          "text": [
            "My\n",
            "name\n",
            "is\n",
            "riya\n"
          ]
        }
      ]
    },
    {
      "cell_type": "code",
      "source": [],
      "metadata": {
        "id": "Pd0JPdYSeQw7"
      },
      "execution_count": null,
      "outputs": []
    }
  ]
}