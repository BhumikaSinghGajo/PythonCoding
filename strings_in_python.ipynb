{
  "nbformat": 4,
  "nbformat_minor": 0,
  "metadata": {
    "colab": {
      "provenance": [],
      "authorship_tag": "ABX9TyPWrC6N3J36VQKok1a05u7a",
      "include_colab_link": true
    },
    "kernelspec": {
      "name": "python3",
      "display_name": "Python 3"
    },
    "language_info": {
      "name": "python"
    }
  },
  "cells": [
    {
      "cell_type": "markdown",
      "metadata": {
        "id": "view-in-github",
        "colab_type": "text"
      },
      "source": [
        "<a href=\"https://colab.research.google.com/github/BhumikaSinghGajo/PythonCoding/blob/main/strings_in_python.ipynb\" target=\"_parent\"><img src=\"https://colab.research.google.com/assets/colab-badge.svg\" alt=\"Open In Colab\"/></a>"
      ]
    },
    {
      "cell_type": "code",
      "execution_count": null,
      "metadata": {
        "colab": {
          "base_uri": "https://localhost:8080/"
        },
        "id": "CjxqCoRYtdnh",
        "outputId": "a41a67c3-d7a3-4214-b51f-8f291603f9b3"
      },
      "outputs": [
        {
          "output_type": "stream",
          "name": "stdout",
          "text": [
            "4\n"
          ]
        }
      ],
      "source": [
        "#find length of string\n",
        "str = \"love\"\n",
        "print(len(str))"
      ]
    },
    {
      "cell_type": "code",
      "source": [
        "my_list = ['1','2','3']\n",
        "count = my_list.count(2)\n",
        "print(count)"
      ],
      "metadata": {
        "colab": {
          "base_uri": "https://localhost:8080/"
        },
        "id": "yjJN7YyFt_o2",
        "outputId": "6ed85606-78bb-40fe-8901-fcdd67ffc8ab"
      },
      "execution_count": null,
      "outputs": [
        {
          "output_type": "stream",
          "name": "stdout",
          "text": [
            "0\n"
          ]
        }
      ]
    },
    {
      "cell_type": "code",
      "source": [
        "#reverse the words\n",
        "string = 'Riya'\n",
        "\n",
        "for char in reversed (string):\n",
        "  print (char)"
      ],
      "metadata": {
        "id": "4VVzMlWcvD7V",
        "colab": {
          "base_uri": "https://localhost:8080/"
        },
        "outputId": "9a37707f-eeb9-49b4-8d5f-a800df77bd6f"
      },
      "execution_count": 8,
      "outputs": [
        {
          "output_type": "stream",
          "name": "stdout",
          "text": [
            "a\n",
            "y\n",
            "i\n",
            "R\n"
          ]
        }
      ]
    },
    {
      "cell_type": "code",
      "source": [],
      "metadata": {
        "id": "sHpKmAQF_lc6"
      },
      "execution_count": null,
      "outputs": []
    }
  ]
}