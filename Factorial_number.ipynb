{
  "nbformat": 4,
  "nbformat_minor": 0,
  "metadata": {
    "colab": {
      "provenance": [],
      "authorship_tag": "ABX9TyM7HSOwOhIDIMQTggGpfKxI",
      "include_colab_link": true
    },
    "kernelspec": {
      "name": "python3",
      "display_name": "Python 3"
    },
    "language_info": {
      "name": "python"
    }
  },
  "cells": [
    {
      "cell_type": "markdown",
      "metadata": {
        "id": "view-in-github",
        "colab_type": "text"
      },
      "source": [
        "<a href=\"https://colab.research.google.com/github/BhumikaSinghGajo/PythonCoding/blob/main/Factorial_number.ipynb\" target=\"_parent\"><img src=\"https://colab.research.google.com/assets/colab-badge.svg\" alt=\"Open In Colab\"/></a>"
      ]
    },
    {
      "cell_type": "code",
      "source": [
        "#factorial questions\n",
        "import math\n",
        "\n",
        "def factorial (n):\n",
        "  return(math.factorial(n))\n",
        "\n",
        "#Driver code\n",
        "n = 5\n",
        "print(factorial(n))\n"
      ],
      "metadata": {
        "id": "ueFSfbmcDwnR",
        "colab": {
          "base_uri": "https://localhost:8080/"
        },
        "outputId": "d7acb9cb-9ca2-42b3-fd2d-4f45561fa829"
      },
      "execution_count": null,
      "outputs": [
        {
          "output_type": "stream",
          "name": "stdout",
          "text": [
            "120\n"
          ]
        }
      ]
    },
    {
      "cell_type": "code",
      "source": [],
      "metadata": {
        "id": "OJ_2zZw6Mzaf"
      },
      "execution_count": null,
      "outputs": []
    }
  ]
}