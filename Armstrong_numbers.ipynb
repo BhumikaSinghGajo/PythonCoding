{
  "nbformat": 4,
  "nbformat_minor": 0,
  "metadata": {
    "colab": {
      "provenance": [],
      "authorship_tag": "ABX9TyOt6DhoTVe8kceFEvoy5UdE",
      "include_colab_link": true
    },
    "kernelspec": {
      "name": "python3",
      "display_name": "Python 3"
    },
    "language_info": {
      "name": "python"
    }
  },
  "cells": [
    {
      "cell_type": "markdown",
      "metadata": {
        "id": "view-in-github",
        "colab_type": "text"
      },
      "source": [
        "<a href=\"https://colab.research.google.com/github/BhumikaSinghGajo/PythonCoding/blob/main/Armstrong_numbers.ipynb\" target=\"_parent\"><img src=\"https://colab.research.google.com/assets/colab-badge.svg\" alt=\"Open In Colab\"/></a>"
      ]
    },
    {
      "cell_type": "code",
      "execution_count": 3,
      "metadata": {
        "colab": {
          "base_uri": "https://localhost:8080/"
        },
        "id": "bstGGazkhPtu",
        "outputId": "a734a3ca-fa43-4ffa-bf9e-405f2d288102"
      },
      "outputs": [
        {
          "output_type": "stream",
          "name": "stdout",
          "text": [
            "enter lower range:125\n",
            "enter upper range:250\n",
            "125\n",
            "153\n",
            "216\n"
          ]
        }
      ],
      "source": [
        "lower = int(input(\"enter lower range:\"))\n",
        "upper = int(input(\"enter upper range:\"))\n",
        "\n",
        "for num in range(lower,upper+1):\n",
        " sum = 0\n",
        " temp = num\n",
        " while temp > 0 :\n",
        "  digit = temp % 10\n",
        "  sum += digit**3\n",
        "  temp //= 10\n",
        "  if num == sum:\n",
        "    print(sum)"
      ]
    },
    {
      "cell_type": "code",
      "source": [],
      "metadata": {
        "id": "PWYzRrRylgGh"
      },
      "execution_count": null,
      "outputs": []
    }
  ]
}